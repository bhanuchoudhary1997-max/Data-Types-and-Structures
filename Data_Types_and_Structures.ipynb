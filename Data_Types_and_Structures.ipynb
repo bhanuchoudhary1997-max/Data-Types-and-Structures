{
  "nbformat": 4,
  "nbformat_minor": 0,
  "metadata": {
    "colab": {
      "provenance": []
    },
    "kernelspec": {
      "name": "python3",
      "display_name": "Python 3"
    },
    "language_info": {
      "name": "python"
    }
  },
  "cells": [
    {
      "cell_type": "markdown",
      "source": [
        "# Data Types and Structures\n"
      ],
      "metadata": {
        "id": "pn-gT-1VMQfl"
      }
    },
    {
      "cell_type": "markdown",
      "source": [
        "# What are data structures, and why are they important?\n",
        "- Data structures are specialized formats for organizing, processing, retrieving, and storing data. Think of them as blueprints or frameworks that dictate how data elements are related to each other and how they can be manipulated.\n",
        "\n",
        "- Importance of Data Structures\n",
        "Data structures are critically important in computer science and programming for several key reasons:\n",
        "\n",
        "1. Efficiency and Performance\n",
        "-  The primary importance lies in efficiency. Choosing the right data structure for a specific task can mean the difference between an application that runs in milliseconds and one that takes hours. They optimize:\n",
        "\n",
        "-  Time Complexity: How fast an algorithm runs (e.g., searching for an item in a sorted array is much faster than in an unsorted list).\n",
        "\n",
        "-  Space Complexity: How much memory an algorithm or program requires.\n",
        "\n",
        "2. Organization and Management\n",
        "-  They provide a way to manage vast amounts of data in a logical and easily accessible manner. A database, for example, uses various structures (like B-trees) to quickly locate records.\n",
        "\n",
        "\n",
        "3. Problem Solving\n",
        "-  Most complex programming problems can only be solved efficiently by using the correct underlying data structure. They are the fundamental tools for designing efficient algorithms.\n",
        "\n",
        "  Analogy: If data is the material (bricks), the data structure is the design (blueprint) and the storage method (shelves) that allows you to quickly find and use the right brick when building a house (the program).\n",
        "\n",
        "4. Foundation of Computer Science\n",
        "-  Data structures, along with algorithms, form the backbone of computer science. Understanding them is essential for developing operating systems, databases, compilers, networking protocols, and virtually all software applications.\n",
        "\n",
        "# Explain the difference between mutable and immutable data types with examples.\n",
        "- The difference between mutable and immutable data types lies in whether their value can be changed after they are created.\n",
        "\n",
        "- Mutable Data Types :\n",
        "Mutable (meaning changeable) data types can have their value modified in place after they have been initialized. When you modify a mutable object, the object's identity (memory address) remains the same, but its content changes.\n",
        "\n",
        "- Examples in Python:\n",
        "- Lists (list): You can add, remove, or change elements within the list.\n",
        "- Dictionaries (dict): You can add or change key-value pairs.\n",
        "- Sets (set): You can add or remove elements.\n",
        "\n",
        "- Immutable Data Types :\n",
        "Immutable (meaning unchangeable) data types cannot be modified after they are created. Any operation that seems to \"change\" an immutable object actually results in the creation of a brand new object with the new value, while the original object remains untouched. The new object will have a different memory address.\n",
        "\n",
        "- Examples in Python:\n",
        "- Integers, Floats, Booleans (int, float, bool):\n",
        "- Strings (str): You cannot change a single character in a string; you must create a new string.\n",
        "- Tuples (tuple): While a tuple itself is immutable (you can't add or remove elements), if it contains a mutable object (like a list), that nested object can still be modified.\n",
        "\n",
        "# What are the main differences between lists and tuples in Python?\n",
        "- Key Differences       \n",
        "1. List ([])\n",
        "- Mutable — you can change elements, add/remove items.\n",
        "- Defined using square brackets: my_list = [1, 2, 3].\n",
        "- Many built-in list methods: append(), remove(), extend(), etc.\n",
        "- Lists are not hashable (since they can change), so cannot be dictionary keys.\n",
        "- Generally use a bit more memory, and modifications/additions may incur overhead.\n",
        "- Good when you have a collection of items, possibly many, and you expect to modify them (add/remove/alter).\n",
        "\n",
        "2. Tuple (())\n",
        "- Immutable — once created you cannot change, add or remove elements.\n",
        "- Defined using parentheses (or just commas) : my_tuple = (1, 2, 3).\n",
        "- Fewer methods (since you can't modify): mostly count(), index().\n",
        "- Tuples (if all their contents are also immutable) are hashable and can be used as dictionary keys.\n",
        "- Often slightly more efficient (less overhead) when you don’t need to modify.\n",
        "- Good when you have a fixed collection of items (that won’t change), or represent something like a “record” with a fixed meaning in each position.\n",
        "\n",
        "3. Use a list when:\n",
        "- You will need to change the data (add/remove elements, update values).\n",
        "- You are dealing with a sequence of similar items (e.g., a list of names, numbers).\n",
        "\n",
        "4. Use a tuple when:\n",
        "- You know the data should not be changed (immutable).\n",
        "- You want to enforce “this collection is fixed”.\n",
        "- You might want to use it as a dictionary key (and all elements inside are immutable).\n",
        "- You're returning a few items from a function where each position has meaning (e.g., return (result, status_flag)).\n",
        "\n",
        "#  Describe how dictionaries store data.\n",
        "- How dictionaries store things internally\n",
        "- The internal implementation is a bit more involved than “just a list of key-value pairs”. The main mechanism is hashing + a hash table (open addressing, buckets, etc.).\n",
        "Here are key points\n",
        "- When you insert a key:value, the key is hashed (i.e., the hash code of the key object is computed) and that hash is used to determine which slot / bucket in the underlying structure will hold the pair.\n",
        "- The dictionary maintains an array (or similar contiguous memory structure) of entries or buckets. Each bucket holds something like: [hash, key pointer/reference, value pointer/reference].\n",
        "- Collisions (two keys with same hash or mapped to same slot) are handled via techniques like open addressing, meaning if the intended slot is occupied, the table probes to other slots.\n",
        "- The table can resize (grow) when the load factor (filled vs total slots) becomes too high. On resizing, entries are rehashed/moved to the new larger table.\n",
        "- Python 3.6+ (and official as of 3.7) changed the layout so that insertion-order is preserved (i.e., iteration yields items in insertion order). Under the hood this is because the entries are stored in a separate dense array, and the hash table maps to indices in that array.\n",
        "\n",
        "# Why might you use a set instead of a list in Python?\n",
        "- Key Reasons to Choose a Set : Sets are optimized for different operations than lists, making them better suited for specific tasks.\n",
        "1. Enforcing Uniqueness (No Duplicates): The most fundamental difference is that sets cannot contain duplicate elements.\n",
        "- If you add a value that's already in the set, the set remains unchanged.\n",
        "- This feature makes sets ideal for tasks like filtering out duplicates from a list or counting the number of unique items in a collection.\n",
        "2. Extremely Fast Membership Testing: Sets use a hash table (similar to dictionaries) internally. This structure allows for average $O(1)$ (constant time) complexity when checking if an element is present (element in my_set).\n",
        "- List: Checking for an element requires potentially scanning the entire list, resulting in $O(n)$ (linear time) complexity.\n",
        "- Set: The set can jump almost instantly to the element's location using its hash value.\n",
        "3. Set Operations: Sets provide built-in, highly optimized methods for mathematical set operations.\n",
        "- Union: Combining all unique elements from two sets (set1 | set2).\n",
        "- Intersection: Finding elements common to both sets (set1 & set2).\n",
        "- Difference: Finding elements in one set but not the other (set1 - set2).\n",
        "\n",
        "# What is a string in Python, and how is it different from a list?\n",
        "- A string in Python is a fundamental data type used to represent textual data, while a list is a container used to store a sequence of different items.\n",
        "- A string is a sequence of Unicode characters (letters, numbers, symbols, and spaces) enclosed in single quotes (' '), double quotes (\" \"), or triple quotes (\"\"\" \"\"\").\n",
        "1. Data Type: Used exclusively for text.\n",
        "2. Immutability: The most critical characteristic: strings are immutable. Once created, you cannot change individual characters within the string. Any operation that appears to modify a string actually creates a brand new string object in memory.\n",
        "3. Sequence: Like lists, strings are sequences, meaning they support indexing (accessing characters by position) and slicing (getting substrings).\n",
        "- String vs. List: Key Differences : While both strings and lists are ordered sequences, their purposes and fundamental properties are very different.\n",
        "1. String (str)\n",
        "- Representing textual data (characters).\n",
        "- Immutable (Cannot be changed after creation).\n",
        "- Holds only characters.\n",
        "- Enclosed in quotes (\"...\").\n",
        "- A sequence of Unicode characters.\n",
        "2. List (list)\n",
        "- Representing a collection of items (any data type).\n",
        "- Mutable (Can be changed, added to, or deleted from).\n",
        "- Can hold mixed data types (integers, strings, other lists, etc.).\n",
        "- Enclosed in square brackets ([...]).\n",
        "- An array of references (pointers) to various objects in memory.\n",
        "\n",
        "#  How do tuples ensure data integrity in Python?\n",
        "- Tuples ensure data integrity in Python primarily through their fundamental characteristic: immutability.\n",
        "- Immutability and Data Integrity : Data integrity refers to maintaining and assuring the accuracy and consistency of data over its entire life cycle. Tuples achieve this protection because they cannot be changed after creation.\n",
        "1. Preventing Accidental Modification : The most direct way tuples ensure integrity is by preventing unintended changes to the data.\n",
        "- If you store a set of fixed, related values (like database coordinates, settings configurations, or RGB color values) in a tuple, you are guaranteed that no other part of the program can accidentally add, remove, or modify those elements.\n",
        "- If a function receives a tuple as an argument, the function cannot alter the original data, ensuring the data remains consistent throughout the program's execution.\n",
        "2. Thread Safety : In multi-threaded programming environments (where multiple parts of a program run simultaneously), mutable objects (like lists) can be risky because one thread might change the object while another is reading it, leading to unpredictable results and data corruption.\n",
        "- Tuples are inherently thread-safe because their state cannot change. Once a thread accesses a tuple, it knows the data will remain constant, eliminating the need for complex locking mechanisms and ensuring integrity in concurrent operations.\n",
        "3. Use in Dictionaries and Sets : Tuples are required to be used as keys in dictionaries or elements in sets because they are hashable.\n",
        "- Hashability relies on immutability. If a dictionary key were mutable, its hash value could change, and the dictionary would lose the ability to locate the corresponding value, corrupting the data structure. By forcing the use of immutable tuples, data integrity within these core Python structures is maintained.\n",
        "\n",
        "# What is a hash table, and how does it relate to dictionaries in Python?\n",
        "- A hash table is a highly efficient data structure that implements an associative array abstract data type. It is designed to store data in key-value pairs and allows for incredibly fast retrieval, insertion, and deletion operations.\n",
        "- How this relates to Python’s dict\n",
        "\n",
        "  In Python, the built-in dictionary type is implemented using a hash table internally. Some of the key points:\n",
        "- The documentation notes that: “CPython’s dictionaries are implemented as resizable hash tables.”\n",
        "- When you use something like my_dict[key] = value, Python computes hash(key), uses that to find a slot in the internal table, and stores (key, value) there.\n",
        "- Lookup, insertion, and deletion by key in a dict are on average constant time (O(1)), thanks to the hash-table implementation.\n",
        "- Keys must be hashable (which implies immutability and a stable hash value) because if a key’s hash could change while it’s in the dict, lookups would fail. That’s why things like lists (which are mutable) cannot serve as dictionary keys.\n",
        "- Even though dictionaries now maintain insertion order (since Python 3.7), the underlying data structure is still a hash table optimized for key-based lookup; the ordering is a higher-level feature layered on top.\n",
        "\n",
        "# Can lists contain different data types in Python?\n",
        "- Yes, lists in Python can contain different data types simultaneously. This is a key feature of Python lists that distinguishes them from arrays in many other programming languages.\n",
        "\n",
        "1. Nature of Python Lists\n",
        "- Python lists are designed to be heterogeneous, meaning you can store various types of objects—such as integers, strings, floats, booleans, and even other complex objects like dictionaries, tuples, and other lists—all within the same list.\n",
        "2. Why is This Possible?\n",
        "\n",
        "    This flexibility is due to how Python lists are implemented:\n",
        "- References (Pointers): A Python list doesn't store the data values themselves directly in contiguous memory. Instead, it stores an ordered array of references (or pointers) to the actual Python objects (the integer 100, the string \"Python\", etc.), which are stored elsewhere in memory.\n",
        "- Object Overhead: Each object in Python carries its own type information. When you access an element in the list, Python follows the pointer to the object and knows exactly what type it is, regardless of the types of the objects before or after it in the list.\n",
        "\n",
        "# Explain why strings are immutable in Python.\n",
        "- String immutability in Python means that once a string object is created, its contents cannot be changed (you cannot modify individual characters, insert or delete inside it). Yet you can create new strings based on existing ones (e.g., via concatenation or slicing).\n",
        "  \n",
        "  Here are key reasons why strings are immutable in Python, and the benefits this design gives:\n",
        "- Why strings are designed as immutable\n",
        "1. Hashability & dictionary Key Use : Because immutable objects don’t change over time, their hash value (if hashable) remains constant. That means you can safely use them as keys in dictionaries (or elements in sets) without risking the object changing and invalidating its lookup slot.\n",
        "2. Safe intern-pooling / reuse : Immutable strings allow Python implementations to reuse string objects or intern them (store single shared instances) because there’s no risk of one reference modifying the object and affecting another.\n",
        "3. Thread-safety / simpler concurrency concerns : If an object cannot change its state, you don’t need to worry about one thread modifying it while another is reading — reducing certain classes of bugs in multi-threaded code.\n",
        "4. Predictability & integrity of data : When you pass around strings, you know they won’t spontaneously change elsewhere. This makes reasoning about code easier (fewer side-effects).\n",
        "5. Memory and performance-related benefits : Because strings are immutable, Python can implement optimisations such as sharing memory for identical strings, caching, and avoiding the need to track changes.\n",
        "\n",
        "# What advantages do dictionaries offer over lists for certain tasks?\n",
        "- Dictionaries (the dict type in Python) offer several important advantages over lists for certain tasks — here are some of the key ones, with explanations.\n",
        "\n",
        "  Advantages of dictionaries:\n",
        "1. Fast lookups by key : Since dictionaries are implemented using a hash table under the hood, a lookup like my_dict[key] is on average O(1) time.By contrast, if you were using a list and had to search for a value (unless you already knew the index), you’d typically need to scan through the list in O(n) time. Thus, when you need to repeatedly “find something by a key or identifier”, a dictionary is far more efficient than a list.\n",
        "2. Key-value mapping semantics : Dictionaries let you store data in the form “key → value”, which is often a more natural or readable representation when you have labeled elements, identifiers, or associations. For example: storing a person’s age by name (ages[\"Alice\"] = 30) is clearer than trying to use a list and remember which index corresponds to which person.\n",
        "3. Uniqueness of keys & direct access : A dictionary enforces unique keys (you can’t have the same key twice — a new assignment overwrites the old). That helps prevent ambiguous key lookups. Also, you don’t rely on positional indexing (which can be brittle if the order changes or elements are inserted/removed).\n",
        "4. Better for dynamic, large-scale, or frequent changes : Because of the hash table implementation, inserting or deleting entries in a dictionary remains efficient (on average) whereas for lists, insertion/deletion (especially in the middle) can require shifting many elements, so cost can be O(n) in many cases. So if you have a data structure you expect to frequently modify (add/remove keys) and look up by identifiers, a dictionary is often a better choice.\n",
        "5. Clearer intent in code : Using a dictionary signals to someone reading the code that “this is a mapping (key→value)”, not just a sequence. That improves readability and maintainability, especially when your data is inherently associative rather than sequential.\n",
        "\n",
        "#  Describe a scenario where using a tuple would be preferable over a list.\n",
        "- Scenario\n",
        "\n",
        "  Suppose you’re writing a program to represent the geographic coordinates of a city, i.e., (latitude, longitude). For example : coordinates = (28.6139, 77.2090)  Delhi’s lat & long\n",
        "- The coordinates are fixed (you don’t plan to add more values like altitude or modify them) and you treat them as a unit of data.\n",
        "\n",
        "  Why a tuple is a better choice than a list here\n",
        "- Immutability / Data Integrity: With a tuple, once you assign (28.6139, 77.2090), you know it won’t later be changed accidentally. With a list, someone might do coordinates[0] = new_latitude whether by mistake or intentionally. Using a tuple signals that this data is fixed.\n",
        "- Fixed Structure / Semantic Meaning: The two items (latitude and longitude) have specific positions and meanings: first is latitude, second is longitude. A tuple, which often represents a fixed‐length record, matches this semantic better.\n",
        "- Performance & Memory Efficiency: Since a tuple is immutable it often has slightly lower memory overhead and can be marginally faster for iteration or storage if you’re dealing with many such coordinate records.\n",
        "- Hashability / Use as Dictionary Keys: If you later want to use the coordinates as keys in a dictionary (e.g., map a location to some metadata), tuples can serve as keys (provided their elements are immutable), but lists cannot.\n",
        "\n",
        "# How do sets handle duplicate values in Python?\n",
        "- Sets handle duplicate values in Python by automatically eliminating them during the creation or modification process. A Python set is fundamentally defined as an unordered collection of unique, immutable elements.\n",
        "\n",
        "- The Mechanism of Uniqueness : When you attempt to add duplicate elements to a set, Python uses an internal mechanism to ensure only one instance of that value is ever stored.\n",
        "1. During Set Creation : When you define a set or convert a list (which might contain duplicates) into a set, Python processes each element. It uses the element's hash value to determine if the item is already present.\n",
        "- If the element is already present, the attempt to add it is simply ignored.\n",
        "- If the element is not present, it is added to the set.\n",
        "2. During Set Modification : If you use the .add() method to introduce a duplicate value to an existing set, the set's size and content will remain unchanged.\n",
        "\n",
        "# How does the “in” keyword work differently for lists and dictionaries?\n",
        "- The in keyword works differently for lists and dictionaries primarily because it checks for different things within their respective structures, leveraging the underlying data organization.\n",
        "\n",
        "  The main difference is what the in operator attempts to find:\n",
        "- For Lists, in checks for the existence of a value (an element).\n",
        "- For Dictionaries, in checks for the existence of a key.\n",
        "1. List Operation: Value Search : When you use the in keyword with a list, Python performs a sequential search (or linear scan) through the list's elements.\n",
        "- It starts at the beginning of the list (index 0) and compares the search item to each element until a match is found or the end of the list is reached.\n",
        "- The time it takes to find an item depends on the size of the list ($n$); hence, the performance is $O(n)$.\n",
        "2. Dictionary Operation: Key Lookup : When you use the in keyword with a dictionary, Python leverages the underlying hash table structure for an almost instantaneous lookup.\n",
        "- It does not search through the values. Instead, it checks if the item exists as one of the keys in the dictionary.\n",
        "- It does not search through the values. Instead, it checks if the item exists as one of the keys in the dictionary.\n",
        "- Because of hashing, the performance is extremely fast, averaging $O(1)$.\n",
        "\n",
        "# Can you modify the elements of a tuple? Explain why or why not.\n",
        "- You cannot modify the elements of a tuple in Python in the sense of changing an existing element (e.g., you cannot do tup[0] = new_value). This is because a tuple is immutable.\n",
        "- The immutability means once a tuple is created, its contents (the references to its elements) cannot be changed.\n",
        "- One benefit is that immutable objects can be used more safely in contexts such as keys in dictionaries or elements of sets (provided their contents are also immutable).\n",
        "- It helps avoid accidental modifications: if you know a tuple holds something that should remain constant, using a tuple enforces that at the language level.\n",
        "\n",
        "  Important caveats\n",
        "- While you cannot modify which objects a tuple holds (you can’t replace an element), if a tuple contains a mutable object (for example a list), then that inner object can be modified. The tuple’s “slot” still holds the same list object, but the contents of that list may change.\n",
        "- You can create a new tuple by concatenating, slicing, etc., and reassigning the variable. That looks like “modifying” it, but in reality you're creating a new tuple object.\n",
        "\n",
        "# What is a nested dictionary, and give an example of its use case?\n",
        "- A nested dictionary is a dictionary where the values are themselves other dictionaries. This allows you to create hierarchical, multi-layered data structures in Python.\n",
        "- In a nested dictionary, the structure looks like this\n",
        "\n",
        "  $$\\text{Outer\\_Dict} = \\{\n",
        "    \\text{Key}_1: \\{ \\text{Subkey}_{1a}: \\text{Value}_{1a}, \\text{Subkey}_{1b}: \\text{Value}_{1b} \\},\n",
        "    \\text{Key}_2: \\{ \\text{Subkey}_{2a}: \\text{Value}_{2a} \\},\n",
        "    \\ldots\n",
        "\\}$$\n",
        "- You access elements by chaining keys, moving from the outer layer to the inner layer: Outer_Dict[Key][Subkey].\n",
        "- Use Case: Managing Student Records\n",
        "  \n",
        "  A prime use case for a nested dictionary is managing complex, structured records where each primary entry needs its own set of unique, labeled attributes.\n",
        "    \n",
        "    Scenario Example: Suppose you need to store performance data for several students, including their scores on different tests and their personal details.\n",
        "     \n",
        "    student_records = {\n",
        "    # Key 1: Student ID\n",
        "    \"S001\": {\n",
        "        \"name\": \"Alice Smith\",\n",
        "        \"grade\": \"A\",\n",
        "        \"scores\": {\n",
        "            \"Math\": 95,\n",
        "            \"Science\": 88\n",
        "        }\n",
        "    },\n",
        "    # Key 2: Student ID\n",
        "    \"S002\": {\n",
        "        \"name\": \"Bob Johnson\",\n",
        "        \"grade\": \"B\",\n",
        "        \"scores\": {\n",
        "            \"Math\": 72,\n",
        "            \"History\": 85\n",
        "        }\n",
        "    }\n",
        "  \n",
        "  Advantages in this Scenario:\n",
        "- Logical Grouping: The data for each student (name, grade, scores) is neatly grouped under their unique ID.\n",
        "- Flexible Schema: Each student's record can be slightly different. For example, 'S001' has a Science score, and 'S002' has a History score, which is easily accommodated in the nested structure.\n",
        "- Easy Access: You can efficiently retrieve specific pieces of data.\n",
        "1. To get Alice's name: student_records[\"S001\"][\"name\"] $\\rightarrow$ 'Alice Smith'\n",
        "2. To get Bob's Math score: student_records[\"S002\"][\"scores\"][\"Math\"] $\\rightarrow$ 72\n",
        "\n",
        "# Describe the time complexity of accessing elements in a dictionary.\n",
        "- The time complexity of accessing elements in a Python dictionary is typically $O(1)$ (constant time) on average. This means the time it takes to look up a value by its key doesn't significantly increase as the dictionary grows larger.\n",
        "\n",
        "  The fast access time is due to the dictionary's underlying implementation as a hash table:\n",
        "- Hash Function: When you access an element using a key (e.g., my_dict['key']), the dictionary first passes the key through a hash function to quickly calculate an index in its internal array.\n",
        "- Direct Access: This index allows the dictionary to jump almost directly to the memory location where the corresponding value is stored, bypassing the need to check every item.\n",
        "\n",
        "  Worst-Case Scenario: $O(n)$ : While the average case is $O(1)$, the worst-case time complexity for dictionary access is $O(n)$ (linear time). This occurs when many different keys map to the same internal array index, leading to a large number of collisions.\n",
        "- In a collision-heavy scenario, the dictionary is forced to check the keys in the designated location one by one until it finds the matching key (or determines it's not present).\n",
        "- However, Python's sophisticated hash function and collision resolution techniques make this worst-case scenario extremely rare under normal operating conditions.\n",
        "  \n",
        "  Therefore, for all practical purposes, dictionary access is considered a highly efficient, constant-time operation.\n",
        "\n",
        "#  In what situations are lists preferred over dictionaries?\n",
        "- Lists are preferred over dictionaries in situations where the order of elements is important, duplicate values are needed, or when data is best accessed by its numerical position.\n",
        "\n",
        "  Here are the main scenarios where a list is the more appropriate data structure:\n",
        "\n",
        "1. Order Must Be Maintained : Lists are ordered sequences, meaning the insertion order of elements is preserved, and you can reliably access elements by their integer index (position).\n",
        "- Scenario: Managing a sequence of steps, historical events, items in a shopping cart, or a playlist of songs.\n",
        "\n",
        "Example: A list of events in chronological order, where events[0] is the first event and events[n-1] is the last.\n",
        "2. Access is Position-Based : Lists are naturally optimized for accessing elements using their integer index.\n",
        "- Scenario: When you need to iterate through all elements, access the first or last item quickly, or use integer slicing to retrieve a range of elements.\n",
        "\n",
        "Example: Iterating through the days of the week or extracting elements from index 5 up to index 10 (my_list[5:10]).\n",
        "3. Duplicate Elements are Necessary : Lists allow and maintain duplicate values, whereas dictionaries (by definition of their keys) and sets automatically eliminate them.\n",
        "- Scenario: Storing responses from a survey, recording multiple identical transactions, or tracking inventory counts.\n",
        "\n",
        "Example: A list of dice rolls: [6, 1, 3, 6, 2, 5].\n",
        "4. Simple, Sequential Data : When the data items themselves do not have a natural, unique identifier (key) and are simple homogeneous values.\n",
        "- Scenario: Storing a simple sequence of numbers, scores, or names that don't need associated labels.\n",
        "\n",
        "Example: A list of quiz scores: [85, 92, 78, 95]. Using a dictionary here would be overkill, requiring you to invent arbitrary keys (e.g., 'score1': 85).\n",
        "\n",
        "# Why are dictionaries considered unordered, and how does that affect data retrieval?\n",
        "- Dictionaries were historically considered unordered because they relied on a hash table structure, which organizes data based on hash values rather than sequential indices. While this is technically different now, understanding the original mechanism helps explain the concept.\n",
        "\n",
        "  Why dictionaries were considered unordered ⁉\n",
        "- The built-in dict type in Python is implemented as a hash table mapping keys → values. Each key is hashed and stored in a slot, not in a sequential list of items.\n",
        "- Because of that underlying structure, the physical order of key/value pairs inside the dictionary isn’t determined by insertion order or index positions (at least in older versions). So historically, the items could be returned in any order when iterating.\n",
        "- Many references state: “Unordered means you cannot refer to an item by using an index” in a dictionary.\n",
        "- Maintaining insertion order complicates the hash-table implementation (extra tracking overhead) so for many years the guarantee was that the order is not something code should rely on.\n",
        "\n",
        "  How the “unordered” status has changed :\n",
        "- Starting with Python 3.6 (CPython implementation) dictionaries do maintain insertion order as an implementation detail.\n",
        "- From Python 3.7 onward, insertion order preservation is officially part of the language specification for dicts: when you iterate over a dict, you’ll get keys in the order they were added.\n",
        "- Despite this, some documentation (and many educational sources) still refer to dicts as unordered because historically and conceptually they are not indexed sequences like lists. The “unordered” label is sometimes used to mean “not indexable by numeric position” rather than literally random order.\n",
        "\n",
        "  How this affects data retrieval :\n",
        "- Because dictionaries are keyed, you retrieve values by key, not by numeric index.\n",
        "- You cannot reliably say that the “first” or “third” item in a dict means anything meaningful in terms of insertion or position (at least under older versions) because dicts aren’t designed for positional indexing. That means operations that rely on positional order (like d[0] or slicing) make no sense.\n",
        "- Because of the ordering guarantee from Python 3.7, if you rely on iteration preserving insertion order, it works. However, you still cannot access an item by numeric index like a list (e.g., d[0] isn’t valid unless 0 is a key).\n",
        "- If you need to produce an ordered view (e.g., “list of keys in the order they were added”), you can do so via list(d.keys()), but you should still think in terms of “key → value mapping” rather than “positional sequence”.\n",
        "\n",
        "# Explain the difference between a list and a dictionary in terms of data retrieval.\n",
        "- The core difference between lists and dictionaries in terms of data retrieval lies in the mechanism used to locate the data and the resulting performance (time complexity).\n",
        "\n",
        "  Lists retrieve data based on its numerical position (index).\n",
        "- Mechanism: You ask the list for the item at a specific index (e.g., my_list[3]).\n",
        "- Search Type: If you are searching for an element by its value (e.g., 'apple' in my_list), Python performs a sequential search (or linear scan). It starts at index 0 and checks every element until it finds a match.\n",
        "- Time Complexity:\n",
        "1. Retrieval by Index: 5$O(1)$ (Constant Time)\n",
        "2. Search by Value (in keyword): $O(n)$ (Linear Time) on average. The time taken grows directly with the number of elements ($n$) because Python might have to check all of them.\n",
        "\n",
        "  Dictionary Retrieval: Key Lookup (Hashing)\n",
        "- Mechanism: You ask the dictionary for the value associated with a specific key (e.g., my_dict['username']).\n",
        "- Search Type: The dictionary uses the key's hash value to calculate the element's memory address and jumps almost directly to the location.\n",
        "- Time Complexity:\n",
        "1. Retrieval by Key: 9$O(1)$ (Constant Time) on average.10 The speed is nearly instantaneous and does not slow down as the dictionary grows larger, making it highly efficient for lookups.\n",
        "\n"
      ],
      "metadata": {
        "id": "lcFcEBXpNDuD"
      }
    },
    {
      "cell_type": "code",
      "source": [
        "# Write a code to create a string with your name and print it.\n",
        "\n",
        "name = \"bhanu\"\n",
        "print(name)\n",
        "\n"
      ],
      "metadata": {
        "colab": {
          "base_uri": "https://localhost:8080/"
        },
        "id": "v1QuR46FqI4e",
        "outputId": "e642e24a-3b2f-40d2-b387-41e1dec74500"
      },
      "execution_count": 2,
      "outputs": [
        {
          "output_type": "stream",
          "name": "stdout",
          "text": [
            "bhanu\n"
          ]
        }
      ]
    },
    {
      "cell_type": "code",
      "source": [
        "# Write a code to find the length of the string \"Hello World\".\n",
        "\n",
        "s = \"Hello World\"\n",
        "print(len(s))\n"
      ],
      "metadata": {
        "colab": {
          "base_uri": "https://localhost:8080/"
        },
        "id": "EtLI003CqUTk",
        "outputId": "48cbbeac-41ce-428f-8d1f-4ccbedb4229d"
      },
      "execution_count": 3,
      "outputs": [
        {
          "output_type": "stream",
          "name": "stdout",
          "text": [
            "11\n"
          ]
        }
      ]
    },
    {
      "cell_type": "code",
      "source": [
        "# Write a code to slice the first 3 characters from the string \"Python Programming\".\n",
        "\n",
        "s = \"Python Programming\"\n",
        "print(s[:3])\n"
      ],
      "metadata": {
        "colab": {
          "base_uri": "https://localhost:8080/"
        },
        "id": "78g0CLAuqjFo",
        "outputId": "d67eec62-f5e8-4e6a-8008-c4af44f52bca"
      },
      "execution_count": 4,
      "outputs": [
        {
          "output_type": "stream",
          "name": "stdout",
          "text": [
            "Pyt\n"
          ]
        }
      ]
    },
    {
      "cell_type": "code",
      "source": [
        "# Write a code to convert the string \"hello\" to uppercase.\n",
        "\n",
        "s = \"hello\"\n",
        "print(s.upper())\n"
      ],
      "metadata": {
        "colab": {
          "base_uri": "https://localhost:8080/"
        },
        "id": "PEqI7nxVqxXK",
        "outputId": "84e840af-7e07-4e8f-f401-e504d70ae912"
      },
      "execution_count": 5,
      "outputs": [
        {
          "output_type": "stream",
          "name": "stdout",
          "text": [
            "HELLO\n"
          ]
        }
      ]
    },
    {
      "cell_type": "code",
      "source": [
        "# Write a code to replace the word \"apple\" with \"orange\" in the string \"I like apple\".\n",
        "\n",
        "s = \"I like apple\"\n",
        "new_s = s.replace(\"apple\", \"orange\")\n",
        "print(new_s)"
      ],
      "metadata": {
        "colab": {
          "base_uri": "https://localhost:8080/"
        },
        "id": "ddkPugPQq2bh",
        "outputId": "f1413ab4-1823-4f78-e7a9-11418121bab0"
      },
      "execution_count": 6,
      "outputs": [
        {
          "output_type": "stream",
          "name": "stdout",
          "text": [
            "I like orange\n"
          ]
        }
      ]
    },
    {
      "cell_type": "code",
      "source": [
        "# Write a code to create a list with numbers 1 to 5 and print it.\n",
        "\n",
        "numbers = [1, 2, 3, 4, 5]\n",
        "print(numbers)\n"
      ],
      "metadata": {
        "colab": {
          "base_uri": "https://localhost:8080/"
        },
        "id": "xI_3Vla3q_ss",
        "outputId": "c239165e-8ff1-4d3b-8d8a-3c1a45d7a28a"
      },
      "execution_count": 7,
      "outputs": [
        {
          "output_type": "stream",
          "name": "stdout",
          "text": [
            "[1, 2, 3, 4, 5]\n"
          ]
        }
      ]
    },
    {
      "cell_type": "code",
      "source": [
        "#  Write a code to append the number 10 to the list [1, 2, 3, 4].\n",
        "\n",
        "numbers = [1, 2, 3, 4]\n",
        "numbers.append(10)\n",
        "print(numbers)"
      ],
      "metadata": {
        "colab": {
          "base_uri": "https://localhost:8080/"
        },
        "id": "JQ3AReHxrGhh",
        "outputId": "dd749751-7530-49bf-c00c-77a9fcf82110"
      },
      "execution_count": 8,
      "outputs": [
        {
          "output_type": "stream",
          "name": "stdout",
          "text": [
            "[1, 2, 3, 4, 10]\n"
          ]
        }
      ]
    },
    {
      "cell_type": "code",
      "source": [
        "#  Write a code to remove the number 3 from the list [1, 2, 3, 4, 5].\n",
        "\n",
        "numbers = [1, 2, 3, 4, 5]\n",
        "numbers.remove(3)\n",
        "print(numbers)\n"
      ],
      "metadata": {
        "colab": {
          "base_uri": "https://localhost:8080/"
        },
        "id": "vb94AuNxrRH-",
        "outputId": "7fa81afa-88f1-4585-dbeb-34f55bf01535"
      },
      "execution_count": 9,
      "outputs": [
        {
          "output_type": "stream",
          "name": "stdout",
          "text": [
            "[1, 2, 4, 5]\n"
          ]
        }
      ]
    },
    {
      "cell_type": "code",
      "source": [
        "# Write a code to access the second element in the list ['a', 'b', 'c', 'd'].\n",
        "\n",
        "items = ['a', 'b', 'c', 'd']\n",
        "print(items[1])\n"
      ],
      "metadata": {
        "colab": {
          "base_uri": "https://localhost:8080/"
        },
        "id": "uYqcxS9qrgV_",
        "outputId": "011454b2-0dd4-41a7-e393-2ec8581fa4d9"
      },
      "execution_count": 10,
      "outputs": [
        {
          "output_type": "stream",
          "name": "stdout",
          "text": [
            "b\n"
          ]
        }
      ]
    },
    {
      "cell_type": "code",
      "source": [
        "# Write a code to reverse the list [10, 20, 30, 40, 50].\n",
        "\n",
        "numbers = [10, 20, 30, 40, 50]\n",
        "numbers.reverse()\n",
        "print(numbers)\n"
      ],
      "metadata": {
        "colab": {
          "base_uri": "https://localhost:8080/"
        },
        "id": "jDOLmqj2rnvX",
        "outputId": "7b915144-5f86-4c16-d5ba-4fd72d343b57"
      },
      "execution_count": 11,
      "outputs": [
        {
          "output_type": "stream",
          "name": "stdout",
          "text": [
            "[50, 40, 30, 20, 10]\n"
          ]
        }
      ]
    },
    {
      "cell_type": "code",
      "source": [
        "#  Write a code to create a tuple with the elements 100, 200, 300 and print it.\n",
        "\n",
        "t = (100, 200, 300)\n",
        "print(t)\n"
      ],
      "metadata": {
        "colab": {
          "base_uri": "https://localhost:8080/"
        },
        "id": "vbDGz7fery4p",
        "outputId": "e53c5d5a-0406-4e98-8cd2-16444d86a711"
      },
      "execution_count": 12,
      "outputs": [
        {
          "output_type": "stream",
          "name": "stdout",
          "text": [
            "(100, 200, 300)\n"
          ]
        }
      ]
    },
    {
      "cell_type": "code",
      "source": [
        "#  Write a code to access the second-to-last element of the tuple ('red', 'green', 'blue', 'yellow').\n",
        "\n",
        "colors = ('red', 'green', 'blue', 'yellow')\n",
        "print(colors[-2])  # Output: 'blue'\n"
      ],
      "metadata": {
        "colab": {
          "base_uri": "https://localhost:8080/"
        },
        "id": "DAVYdziusYlV",
        "outputId": "64570ce8-f6ed-4325-9ada-2bd6f0170034"
      },
      "execution_count": 13,
      "outputs": [
        {
          "output_type": "stream",
          "name": "stdout",
          "text": [
            "blue\n"
          ]
        }
      ]
    },
    {
      "cell_type": "code",
      "source": [
        "#  Write a code to find the minimum number in the tuple (10, 20, 5, 15).\n",
        "\n",
        "t = (10, 20, 5, 15)\n",
        "print(min(t))"
      ],
      "metadata": {
        "colab": {
          "base_uri": "https://localhost:8080/"
        },
        "id": "mJHGeQkxsjB-",
        "outputId": "204575bd-192d-4f67-d0c9-8a5a60bf63c8"
      },
      "execution_count": 14,
      "outputs": [
        {
          "output_type": "stream",
          "name": "stdout",
          "text": [
            "5\n"
          ]
        }
      ]
    },
    {
      "cell_type": "code",
      "source": [
        "#  Write a code to find the index of the element \"cat\" in the tuple ('dog', 'cat', 'rabbit').\n",
        "\n",
        "animals = ('dog', 'cat', 'rabbit')\n",
        "index_of_cat = animals.index('cat')\n",
        "print(index_of_cat)\n"
      ],
      "metadata": {
        "colab": {
          "base_uri": "https://localhost:8080/"
        },
        "id": "M0k1JNRGsyGX",
        "outputId": "7dac88a4-de4c-4f45-a310-3d99872eb1d0"
      },
      "execution_count": 15,
      "outputs": [
        {
          "output_type": "stream",
          "name": "stdout",
          "text": [
            "1\n"
          ]
        }
      ]
    },
    {
      "cell_type": "code",
      "source": [
        "#  Write a code to create a tuple containing three different fruits and check if \"kiwi\" is in it.\n",
        "\n",
        "fruits = (\"apple\", \"banana\", \"mango\")\n",
        "print(\"kiwi\" in fruits)"
      ],
      "metadata": {
        "colab": {
          "base_uri": "https://localhost:8080/"
        },
        "id": "M0rTDi3xs8ZN",
        "outputId": "b4204134-6305-4542-d546-2660dcde8357"
      },
      "execution_count": 16,
      "outputs": [
        {
          "output_type": "stream",
          "name": "stdout",
          "text": [
            "False\n"
          ]
        }
      ]
    },
    {
      "cell_type": "code",
      "source": [
        "#  Write a code to create a set with the elements 'a', 'b', 'c' and print it.\n",
        "\n",
        "my_set = {'a', 'b', 'c'}\n",
        "print(my_set)\n"
      ],
      "metadata": {
        "colab": {
          "base_uri": "https://localhost:8080/"
        },
        "id": "9eCLtj6Ltb5t",
        "outputId": "3f1ea50f-e1a3-48c4-f709-7611bfcba877"
      },
      "execution_count": 17,
      "outputs": [
        {
          "output_type": "stream",
          "name": "stdout",
          "text": [
            "{'c', 'b', 'a'}\n"
          ]
        }
      ]
    },
    {
      "cell_type": "code",
      "source": [
        "#  Write a code to clear all elements from the set {1, 2, 3, 4, 5}.\n",
        "\n",
        "my_set = {1, 2, 3, 4, 5}\n",
        "my_set.clear()\n",
        "print(my_set)\n"
      ],
      "metadata": {
        "colab": {
          "base_uri": "https://localhost:8080/"
        },
        "id": "pcsdiTn3t9eQ",
        "outputId": "f998c202-99e3-494e-e4b8-479f9db627e0"
      },
      "execution_count": 18,
      "outputs": [
        {
          "output_type": "stream",
          "name": "stdout",
          "text": [
            "set()\n"
          ]
        }
      ]
    },
    {
      "cell_type": "code",
      "source": [
        "# Write a code to remove the element 4 from the set {1, 2, 3, 4}.\n",
        "\n",
        "my_set = {1, 2, 3, 4}\n",
        "my_set.remove(4)\n",
        "print(my_set)"
      ],
      "metadata": {
        "colab": {
          "base_uri": "https://localhost:8080/"
        },
        "id": "ZZkOi_SguFfM",
        "outputId": "87650db9-ac01-49ec-d817-e0b5e8613264"
      },
      "execution_count": 19,
      "outputs": [
        {
          "output_type": "stream",
          "name": "stdout",
          "text": [
            "{1, 2, 3}\n"
          ]
        }
      ]
    },
    {
      "cell_type": "code",
      "source": [
        "#  Write a code to find the union of two sets {1, 2, 3} and {3, 4, 5}.\n",
        "\n",
        "set1 = {1, 2, 3}\n",
        "set2 = {3, 4, 5}\n",
        "\n",
        "# Using the union() method\n",
        "union_set = set1.union(set2)\n",
        "print(union_set)\n",
        "\n",
        "# Or using the | operator (equivalent)\n",
        "union_set2 = set1 | set2\n",
        "print(union_set2)"
      ],
      "metadata": {
        "colab": {
          "base_uri": "https://localhost:8080/"
        },
        "id": "n1AdUIMruQai",
        "outputId": "72b1ea03-293d-45ef-bef9-599363a9f998"
      },
      "execution_count": 21,
      "outputs": [
        {
          "output_type": "stream",
          "name": "stdout",
          "text": [
            "{1, 2, 3, 4, 5}\n",
            "{1, 2, 3, 4, 5}\n"
          ]
        }
      ]
    },
    {
      "cell_type": "code",
      "source": [
        "# Write a code to find the intersection of two sets {1, 2, 3} and {2, 3, 4}.\n",
        "\n",
        "set1 = {1, 2, 3}\n",
        "set2 = {2, 3, 4}\n",
        "\n",
        "intersection_set = set1.intersection(set2)\n",
        "print(intersection_set)\n",
        "\n",
        "# Alternatively, you can use the & operator:\n",
        "intersection_set2 = set1 & set2\n",
        "print(intersection_set2)"
      ],
      "metadata": {
        "colab": {
          "base_uri": "https://localhost:8080/"
        },
        "id": "EiIgesPdujon",
        "outputId": "2cad8612-00c4-4cbc-e753-161d659beadd"
      },
      "execution_count": 24,
      "outputs": [
        {
          "output_type": "stream",
          "name": "stdout",
          "text": [
            "{2, 3}\n",
            "{2, 3}\n"
          ]
        }
      ]
    },
    {
      "cell_type": "code",
      "source": [
        "# Write a code to create a dictionary with the keys \"name\", \"age\", and \"city\", and print it.\n",
        "\n",
        "person = { \"name\": \"Bhanu\", \"age\": 28, \"city\": \"Delhi\"}\n",
        "print(person)\n"
      ],
      "metadata": {
        "colab": {
          "base_uri": "https://localhost:8080/"
        },
        "id": "XNIjA12vY8yq",
        "outputId": "01fc7b1d-16b8-4391-b213-22c13b88c88b"
      },
      "execution_count": 26,
      "outputs": [
        {
          "output_type": "stream",
          "name": "stdout",
          "text": [
            "{'name': 'Bhanu', 'age': 28, 'city': 'Delhi'}\n"
          ]
        }
      ]
    },
    {
      "cell_type": "code",
      "source": [
        "# Write a code to add a new key-value pair \"country\": \"USA\" to the dictionary {'name': 'John', 'age': 25}.\n",
        "\n",
        "person = {'name': 'John', 'age': 25}\n",
        "person['country'] = 'USA'\n",
        "print(person)\n"
      ],
      "metadata": {
        "colab": {
          "base_uri": "https://localhost:8080/"
        },
        "id": "srnNyrH_a2AR",
        "outputId": "05e3d190-abe1-4428-845a-1b60b7458672"
      },
      "execution_count": 31,
      "outputs": [
        {
          "output_type": "stream",
          "name": "stdout",
          "text": [
            "{'name': 'John', 'age': 25, 'country': 'USA'}\n"
          ]
        }
      ]
    },
    {
      "cell_type": "code",
      "source": [
        "#  Write a code to access the value associated with the key \"name\" in the dictionary {'name': 'Alice', 'age': 30}.\n",
        "\n",
        "person = {'name': 'Alice', 'age': 30}\n",
        "print(person['name'])\n"
      ],
      "metadata": {
        "colab": {
          "base_uri": "https://localhost:8080/"
        },
        "id": "dIMNQ8WUa-Of",
        "outputId": "af40b77d-cdbc-4365-a80c-1bbe428eecbf"
      },
      "execution_count": 32,
      "outputs": [
        {
          "output_type": "stream",
          "name": "stdout",
          "text": [
            "Alice\n"
          ]
        }
      ]
    },
    {
      "cell_type": "code",
      "source": [
        "# Write a code to remove the key \"age\" from the dictionary {'name': 'Bob', 'age': 22, 'city': 'New York'}.\n",
        "\n",
        "person = {'name': 'Bob', 'age': 22, 'city': 'New York'}\n",
        "person.pop('age', None)\n",
        "print(person)\n"
      ],
      "metadata": {
        "colab": {
          "base_uri": "https://localhost:8080/"
        },
        "id": "LRbSr9J3bF53",
        "outputId": "f225acb5-43f1-469a-a1c7-a2270fd42f78"
      },
      "execution_count": 33,
      "outputs": [
        {
          "output_type": "stream",
          "name": "stdout",
          "text": [
            "{'name': 'Bob', 'city': 'New York'}\n"
          ]
        }
      ]
    },
    {
      "cell_type": "code",
      "source": [
        "#  Write a code to check if the key \"city\" exists in the dictionary {'name': 'Alice', 'city': 'Paris'}.\n",
        "\n",
        "person = {'name': 'Alice', 'city': 'Paris'}\n",
        "\n",
        "if 'city' in person:\n",
        "    print(\"Key 'city' exists in the dictionary.\")\n",
        "else:\n",
        "    print(\"Key 'city' does not exist in the dictionary.\")\n"
      ],
      "metadata": {
        "colab": {
          "base_uri": "https://localhost:8080/"
        },
        "id": "9lrsIbHGbPOE",
        "outputId": "d3fe6661-affc-45fb-eb23-bc22ddd570b6"
      },
      "execution_count": 34,
      "outputs": [
        {
          "output_type": "stream",
          "name": "stdout",
          "text": [
            "Key 'city' exists in the dictionary.\n"
          ]
        }
      ]
    },
    {
      "cell_type": "code",
      "source": [
        "#  Write a code to create a list, a tuple, and a dictionary, and print them all.\n",
        "\n",
        "my_list = [1, 2, 3]\n",
        "my_tuple = (\"apple\", \"banana\", \"cherry\")\n",
        "my_dict = {\"name\": \"Bhanu\", \"age\": 28, \"city\": \"Delhi\"}\n",
        "\n",
        "print(my_list)\n",
        "print(my_tuple)\n",
        "print(my_dict)"
      ],
      "metadata": {
        "colab": {
          "base_uri": "https://localhost:8080/"
        },
        "id": "8QmpkIFrbkXK",
        "outputId": "e34f24b7-60fd-4432-9e92-0e71a7327248"
      },
      "execution_count": 37,
      "outputs": [
        {
          "output_type": "stream",
          "name": "stdout",
          "text": [
            "[1, 2, 3]\n",
            "('apple', 'banana', 'cherry')\n",
            "{'name': 'Bhanu', 'age': 28, 'city': 'Delhi'}\n"
          ]
        }
      ]
    },
    {
      "cell_type": "code",
      "source": [
        "# Write a code to create a list of 5 random numbers between 1 and 100, sort it in ascending order, and print the result.\n",
        "\n",
        "numbers = [random.randint(1, 100) for _ in range(5)]\n",
        "numbers.sort()\n",
        "print(numbers)\n"
      ],
      "metadata": {
        "colab": {
          "base_uri": "https://localhost:8080/"
        },
        "id": "vH6sESVcb6Wy",
        "outputId": "79b539a1-feac-4088-f0c8-e418faa300b1"
      },
      "execution_count": 39,
      "outputs": [
        {
          "output_type": "stream",
          "name": "stdout",
          "text": [
            "[43, 51, 69, 70, 71]\n"
          ]
        }
      ]
    },
    {
      "cell_type": "code",
      "source": [
        "# Write a code to create a list with strings and print the element at the third index.\n",
        "\n",
        "fruits = [\"apple\", \"banana\", \"cherry\", \"mango\"]\n",
        "print(fruits[3])\n"
      ],
      "metadata": {
        "colab": {
          "base_uri": "https://localhost:8080/"
        },
        "id": "NNVLFGa_cfZr",
        "outputId": "eec74ac5-03b4-4808-cbf9-5b79fe596ea0"
      },
      "execution_count": 41,
      "outputs": [
        {
          "output_type": "stream",
          "name": "stdout",
          "text": [
            "mango\n"
          ]
        }
      ]
    },
    {
      "cell_type": "code",
      "source": [
        "# Write a code to combine two dictionaries into one and print the result.\n",
        "\n",
        "dict1 = {'name': 'Bhanu', 'age': 28}\n",
        "dict2 = {'city': 'Delhi', 'country': 'India'}\n",
        "\n",
        "# Method 1:\n",
        "combined1 = dict1.copy()\n",
        "combined1.update(dict2)\n",
        "print(combined1)\n",
        "\n",
        "# Method 2:\n",
        "combined2 = {**dict1, **dict2}\n",
        "print(combined2)\n"
      ],
      "metadata": {
        "colab": {
          "base_uri": "https://localhost:8080/"
        },
        "id": "7S9C08oGcvYU",
        "outputId": "ad6b26c5-2d72-4dac-ff6e-2864292d81d5"
      },
      "execution_count": 43,
      "outputs": [
        {
          "output_type": "stream",
          "name": "stdout",
          "text": [
            "{'name': 'Bhanu', 'age': 28, 'city': 'Delhi', 'country': 'India'}\n",
            "{'name': 'Bhanu', 'age': 28, 'city': 'Delhi', 'country': 'India'}\n"
          ]
        }
      ]
    },
    {
      "cell_type": "code",
      "source": [
        "# Write a code to convert a list of strings into a set.\n",
        "\n",
        "words = [\"apple\", \"banana\", \"cherry\", \"apple\", \"banana\"]\n",
        "unique_words = set(words)\n",
        "print(unique_words)\n"
      ],
      "metadata": {
        "colab": {
          "base_uri": "https://localhost:8080/"
        },
        "id": "i-d5HO01dRI9",
        "outputId": "b90873ca-90d2-4fec-8f8c-c452f56a6bf3"
      },
      "execution_count": 44,
      "outputs": [
        {
          "output_type": "stream",
          "name": "stdout",
          "text": [
            "{'cherry', 'banana', 'apple'}\n"
          ]
        }
      ]
    }
  ]
}